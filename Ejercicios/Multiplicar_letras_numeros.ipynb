{
 "cells": [
  {
   "cell_type": "code",
   "execution_count": null,
   "metadata": {},
   "outputs": [],
   "source": [
    "# El objetivo de este ejercicio es dado una cadena de letras y números multiplicar las letras por la cantidad los números.\n",
    "# Input: a2b3c4d5\n",
    "# Output: aabbbccccddddd\n",
    "\n",
    "A = ('a2b3c5')\n",
    "\n",
    "listA = list(A)\n",
    "\n",
    "# Transformar los elementos consecutivos de una lista en un diccionario\n",
    "dica = dict(zip(listA[0::2], listA[1::2]))\n",
    "\n",
    "# Separamos en listas distintas values y keys\n",
    "A = list(dica.values())\n",
    "B = list(dica.keys())\n",
    "# Para convertir una lista en array(no se puede convertir una lista a STR)\n",
    "A = np.array(A, dtype=np.int32)\n",
    "\n",
    "# Multiplicar los elementos en 2 listas diferentes\n",
    "lista_multi = []\n",
    "for x,y in zip(A, B):\n",
    "    lista_multi.append(x*y)\n",
    "# Para unir todos los elementos de una lista\n",
    "result = \"\".join(lista_multi)\n",
    "\n",
    "print(result)"
   ]
  }
 ],
 "metadata": {
  "kernelspec": {
   "display_name": "Python 3.10.7 64-bit",
   "language": "python",
   "name": "python3"
  },
  "language_info": {
   "name": "python",
   "version": "3.10.7"
  },
  "orig_nbformat": 4,
  "vscode": {
   "interpreter": {
    "hash": "39fcc7d0f34ec6847c19173388e9532ff2de5cda7538432df557c5f9ae8a4d96"
   }
  }
 },
 "nbformat": 4,
 "nbformat_minor": 2
}
